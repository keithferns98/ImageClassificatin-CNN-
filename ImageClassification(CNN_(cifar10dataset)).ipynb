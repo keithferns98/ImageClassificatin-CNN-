{
  "nbformat": 4,
  "nbformat_minor": 0,
  "metadata": {
    "colab": {
      "name": "ImageClassification(CNN (cifar10dataset)).ipynb",
      "provenance": [],
      "authorship_tag": "ABX9TyO2IIeVsu8gMh2bD55odbfC",
      "include_colab_link": true
    },
    "kernelspec": {
      "name": "python3",
      "display_name": "Python 3"
    },
    "language_info": {
      "name": "python"
    }
  },
  "cells": [
    {
      "cell_type": "markdown",
      "metadata": {
        "id": "view-in-github",
        "colab_type": "text"
      },
      "source": [
        "<a href=\"https://colab.research.google.com/github/keithferns98/ImageClassificatin-CNN-/blob/main/ImageClassification(CNN_(cifar10dataset)).ipynb\" target=\"_parent\"><img src=\"https://colab.research.google.com/assets/colab-badge.svg\" alt=\"Open In Colab\"/></a>"
      ]
    },
    {
      "cell_type": "code",
      "metadata": {
        "id": "9DoB7HmFTG-r"
      },
      "source": [
        "import tensorflow as tf\n",
        "from tensorflow.keras import datasets, layers, models\n",
        "import matplotlib.pyplot as plt\n",
        "import numpy as np"
      ],
      "execution_count": 43,
      "outputs": []
    },
    {
      "cell_type": "code",
      "metadata": {
        "colab": {
          "base_uri": "https://localhost:8080/"
        },
        "id": "rchEUaQJTzet",
        "outputId": "30477391-70b6-4fc9-8b44-4d842ba644cc"
      },
      "source": [
        "(X_train,y_train),(X_test,y_test)=datasets.cifar10.load_data()\n",
        "X_train.shape\n"
      ],
      "execution_count": 44,
      "outputs": [
        {
          "output_type": "execute_result",
          "data": {
            "text/plain": [
              "(50000, 32, 32, 3)"
            ]
          },
          "metadata": {
            "tags": []
          },
          "execution_count": 44
        }
      ]
    },
    {
      "cell_type": "code",
      "metadata": {
        "colab": {
          "base_uri": "https://localhost:8080/"
        },
        "id": "keunLLrnT48m",
        "outputId": "8dc0d041-9335-45ec-d115-f6112245fb1b"
      },
      "source": [
        "X_test.shape"
      ],
      "execution_count": 45,
      "outputs": [
        {
          "output_type": "execute_result",
          "data": {
            "text/plain": [
              "(10000, 32, 32, 3)"
            ]
          },
          "metadata": {
            "tags": []
          },
          "execution_count": 45
        }
      ]
    },
    {
      "cell_type": "code",
      "metadata": {
        "colab": {
          "base_uri": "https://localhost:8080/"
        },
        "id": "t_eI9vTXV6t9",
        "outputId": "986ecc5d-2708-4733-8ef5-80d8e27f5659"
      },
      "source": [
        "y_train.shape"
      ],
      "execution_count": 46,
      "outputs": [
        {
          "output_type": "execute_result",
          "data": {
            "text/plain": [
              "(50000, 1)"
            ]
          },
          "metadata": {
            "tags": []
          },
          "execution_count": 46
        }
      ]
    },
    {
      "cell_type": "code",
      "metadata": {
        "colab": {
          "base_uri": "https://localhost:8080/"
        },
        "id": "qwv0suABWVrp",
        "outputId": "444bc37f-7a20-40b1-942f-cbe5db126a87"
      },
      "source": [
        "y_train[1]"
      ],
      "execution_count": 47,
      "outputs": [
        {
          "output_type": "execute_result",
          "data": {
            "text/plain": [
              "array([9], dtype=uint8)"
            ]
          },
          "metadata": {
            "tags": []
          },
          "execution_count": 47
        }
      ]
    },
    {
      "cell_type": "code",
      "metadata": {
        "colab": {
          "base_uri": "https://localhost:8080/"
        },
        "id": "j4F86P1aWoGW",
        "outputId": "a365ce69-9a4a-46ee-d628-1fe74f188830"
      },
      "source": [
        "y_train=y_train.reshape(-1,)\n",
        "y_train[:5]"
      ],
      "execution_count": 48,
      "outputs": [
        {
          "output_type": "execute_result",
          "data": {
            "text/plain": [
              "array([6, 9, 9, 4, 1], dtype=uint8)"
            ]
          },
          "metadata": {
            "tags": []
          },
          "execution_count": 48
        }
      ]
    },
    {
      "cell_type": "code",
      "metadata": {
        "id": "YvO22oZ3UjAl"
      },
      "source": [
        "classes = [\"airplane\",\"automobile\",\"bird\",\"cat\",\"deer\",\"dog\",\"frog\",\"horse\",\"ship\",\"truck\"]"
      ],
      "execution_count": 49,
      "outputs": []
    },
    {
      "cell_type": "code",
      "metadata": {
        "id": "m5dheY5TUesm"
      },
      "source": [
        "def plot_sample(X,y,index):\n",
        "  plt.figure(figsize=(15,2))\n",
        "  plt.imshow(X[index])\n",
        "  plt.xlabel(classes[y[index]])\n"
      ],
      "execution_count": 50,
      "outputs": []
    },
    {
      "cell_type": "code",
      "metadata": {
        "colab": {
          "base_uri": "https://localhost:8080/",
          "height": 173
        },
        "id": "MXj7gvYMabpE",
        "outputId": "405def2b-9f99-424d-b9cd-746e6205b19c"
      },
      "source": [
        "plot_sample(X_train,y_train,1)"
      ],
      "execution_count": 51,
      "outputs": [
        {
          "output_type": "display_data",
          "data": {
            "image/png": "[encoded data removed]",
            "text/plain": [
              "<Figure size 1080x144 with 1 Axes>"
            ]
          },
          "metadata": {
            "tags": [],
            "needs_background": "light"
          }
        }
      ]
    },
    {
      "cell_type": "code",
      "metadata": {
        "colab": {
          "base_uri": "https://localhost:8080/",
          "height": 173
        },
        "id": "MFjXz4WIak64",
        "outputId": "e8a3800b-9485-4b71-d182-6fff8b49c55d"
      },
      "source": [
        "plot_sample(X_train,y_train,3)"
      ],
      "execution_count": 52,
      "outputs": [
        {
          "output_type": "display_data",
          "data": {
            "image/png": "[encoded data removed]",
            "text/plain": [
              "<Figure size 1080x144 with 1 Axes>"
            ]
          },
          "metadata": {
            "tags": [],
            "needs_background": "light"
          }
        }
      ]
    },
    {
      "cell_type": "code",
      "metadata": {
        "id": "OliU5GyBcwgD"
      },
      "source": [
        "#Normalize\n",
        "X_train=X_train/255   \n",
        "X_test=X_test/255"
      ],
      "execution_count": 53,
      "outputs": []
    },
    {
      "cell_type": "code",
      "metadata": {
        "colab": {
          "base_uri": "https://localhost:8080/"
        },
        "id": "_wK87hgGc9S6",
        "outputId": "313de3b0-d390-4be5-b91b-f4c6c3238c8a"
      },
      "source": [
        " ann=models.Sequential([\n",
        "     layers.Flatten(input_shape=(32,32,3)),\n",
        "     layers.Dense(3000,activation='relu'),\n",
        "     layers.Dense(1000,activation='relu'),\n",
        "     layers.Dense(10,activation='sigmoid')\n",
        "     ])\n",
        " ann.compile(optimizer='SGD',\n",
        "             loss='sparse_categorical_crossentropy',\n",
        "             metrics=['accuracy'])\n",
        " ann.fit(X_train,y_train,epochs=5)"
      ],
      "execution_count": 55,
      "outputs": [
        {
          "output_type": "stream",
          "text": [
            "Epoch 1/5\n",
            "1563/1563 [==============================] - 107s 68ms/step - loss: 1.8098 - accuracy: 0.3552\n",
            "Epoch 2/5\n",
            "1563/1563 [==============================] - 106s 68ms/step - loss: 1.6198 - accuracy: 0.4272\n",
            "Epoch 3/5\n",
            "1563/1563 [==============================] - 107s 69ms/step - loss: 1.5393 - accuracy: 0.4578\n",
            "Epoch 4/5\n",
            "1563/1563 [==============================] - 106s 68ms/step - loss: 1.4822 - accuracy: 0.4773\n",
            "Epoch 5/5\n",
            "1563/1563 [==============================] - 108s 69ms/step - loss: 1.4293 - accuracy: 0.4984\n"
          ],
          "name": "stdout"
        },
        {
          "output_type": "execute_result",
          "data": {
            "text/plain": [
              "<tensorflow.python.keras.callbacks.History at 0x7f22101864d0>"
            ]
          },
          "metadata": {
            "tags": []
          },
          "execution_count": 55
        }
      ]
    },
    {
      "cell_type": "code",
      "metadata": {
        "colab": {
          "base_uri": "https://localhost:8080/"
        },
        "id": "9wXI3xkYu2IN",
        "outputId": "f0a8cb3a-f675-4a37-f962-387f611c2cce"
      },
      "source": [
        "ann.evaluate(X_test,y_test)"
      ],
      "execution_count": 56,
      "outputs": [
        {
          "output_type": "stream",
          "text": [
            "313/313 [==============================] - 11s 36ms/step - loss: 1.4943 - accuracy: 0.4708\n"
          ],
          "name": "stdout"
        },
        {
          "output_type": "execute_result",
          "data": {
            "text/plain": [
              "[1.4943351745605469, 0.4708000123500824]"
            ]
          },
          "metadata": {
            "tags": []
          },
          "execution_count": 56
        }
      ]
    },
    {
      "cell_type": "code",
      "metadata": {
        "colab": {
          "base_uri": "https://localhost:8080/"
        },
        "id": "S775UAMu1CXb",
        "outputId": "188e7b5d-efc2-4c66-e150-1b4df988d896"
      },
      "source": [
        "from sklearn.metrics import confusion_matrix, classification_report\n",
        "import numpy as np\n",
        "y_pred=ann.predict(X_test)\n",
        "y_pred_classes=[np.argmax(element) for element in y_pred]\n",
        "print('Classification Reprt:\\n',classification_report(y_test,y_pred_classes))"
      ],
      "execution_count": 59,
      "outputs": [
        {
          "output_type": "stream",
          "text": [
            "Classification Reprt:\n",
            "               precision    recall  f1-score   support\n",
            "\n",
            "           0       0.64      0.48      0.55      1000\n",
            "           1       0.62      0.60      0.61      1000\n",
            "           2       0.46      0.14      0.22      1000\n",
            "           3       0.40      0.29      0.33      1000\n",
            "           4       0.35      0.54      0.43      1000\n",
            "           5       0.44      0.31      0.37      1000\n",
            "           6       0.57      0.45      0.50      1000\n",
            "           7       0.32      0.82      0.46      1000\n",
            "           8       0.62      0.64      0.63      1000\n",
            "           9       0.69      0.43      0.53      1000\n",
            "\n",
            "    accuracy                           0.47     10000\n",
            "   macro avg       0.51      0.47      0.46     10000\n",
            "weighted avg       0.51      0.47      0.46     10000\n",
            "\n"
          ],
          "name": "stdout"
        }
      ]
    },
    {
      "cell_type": "code",
      "metadata": {
        "id": "GTcoOKIT1osE"
      },
      "source": [
        "cnn=models.Sequential([\n",
        "    \n",
        "    layers.Conv2D(filters=32,kernel_size=(3,3),activation='relu',input_shape=(32,32,3)),\n",
        "    layers.MaxPooling2D((2,2)),\n",
        "    layers.Conv2D(filters=64,kernel_size=(3,3),activation='relu'),\n",
        "    layers.MaxPooling2D((2,2)),\n",
        "    #dense\n",
        "    layers.Flatten(),\n",
        "    layers.Dense(64,activation='relu'),\n",
        "    layers.Dense(10,activation='softmax') \n",
        "])"
      ],
      "execution_count": 61,
      "outputs": []
    },
    {
      "cell_type": "code",
      "metadata": {
        "id": "eAFC40QS7zS4"
      },
      "source": [
        "cnn.compile(optimizer='adam',\n",
        "            loss='sparse_categorical_crossentropy',\n",
        "            metrics=['accuracy'])"
      ],
      "execution_count": 62,
      "outputs": []
    },
    {
      "cell_type": "code",
      "metadata": {
        "colab": {
          "base_uri": "https://localhost:8080/"
        },
        "id": "reSQdBHd8fNu",
        "outputId": "db53e6c3-1919-42a0-9ef8-10fdfd4e1718"
      },
      "source": [
        "cnn.fit(X_train,y_train,epochs=10)"
      ],
      "execution_count": 70,
      "outputs": [
        {
          "output_type": "stream",
          "text": [
            "Epoch 1/10\n",
            "1563/1563 [==============================] - 71s 45ms/step - loss: 0.6241 - accuracy: 0.7833\n",
            "Epoch 2/10\n",
            "1563/1563 [==============================] - 68s 43ms/step - loss: 0.5940 - accuracy: 0.7921\n",
            "Epoch 3/10\n",
            "1563/1563 [==============================] - 67s 43ms/step - loss: 0.5685 - accuracy: 0.8003\n",
            "Epoch 4/10\n",
            "1563/1563 [==============================] - 67s 43ms/step - loss: 0.5390 - accuracy: 0.8101\n",
            "Epoch 5/10\n",
            "1563/1563 [==============================] - 68s 43ms/step - loss: 0.5151 - accuracy: 0.8192\n",
            "Epoch 6/10\n",
            "1563/1563 [==============================] - 68s 43ms/step - loss: 0.4857 - accuracy: 0.8297\n",
            "Epoch 7/10\n",
            "1563/1563 [==============================] - 68s 43ms/step - loss: 0.4650 - accuracy: 0.8373\n",
            "Epoch 8/10\n",
            "1563/1563 [==============================] - 67s 43ms/step - loss: 0.4378 - accuracy: 0.8451\n",
            "Epoch 9/10\n",
            "1563/1563 [==============================] - 68s 43ms/step - loss: 0.4188 - accuracy: 0.8523\n",
            "Epoch 10/10\n",
            "1563/1563 [==============================] - 68s 44ms/step - loss: 0.3996 - accuracy: 0.8586\n"
          ],
          "name": "stdout"
        },
        {
          "output_type": "execute_result",
          "data": {
            "text/plain": [
              "<tensorflow.python.keras.callbacks.History at 0x7f220406fbd0>"
            ]
          },
          "metadata": {
            "tags": []
          },
          "execution_count": 70
        }
      ]
    },
    {
      "cell_type": "code",
      "metadata": {
        "colab": {
          "base_uri": "https://localhost:8080/"
        },
        "id": "FeAXu70q8mhF",
        "outputId": "dceb531e-2e2b-4440-bc39-2d24f5f00ba5"
      },
      "source": [
        " cnn.evaluate(X_test,y_test)"
      ],
      "execution_count": 71,
      "outputs": [
        {
          "output_type": "stream",
          "text": [
            "313/313 [==============================] - 4s 13ms/step - loss: 1.1551 - accuracy: 0.6953\n"
          ],
          "name": "stdout"
        },
        {
          "output_type": "execute_result",
          "data": {
            "text/plain": [
              "[1.1550999879837036, 0.6952999830245972]"
            ]
          },
          "metadata": {
            "tags": []
          },
          "execution_count": 71
        }
      ]
    },
    {
      "cell_type": "code",
      "metadata": {
        "colab": {
          "base_uri": "https://localhost:8080/"
        },
        "id": "sj5AMYp_B-66",
        "outputId": "a34b63bd-dfc1-4d90-b529-c9c1fc10d36e"
      },
      "source": [
        "y_test=y_test.reshape(-1,)\n",
        "y_test[:5]"
      ],
      "execution_count": 72,
      "outputs": [
        {
          "output_type": "execute_result",
          "data": {
            "text/plain": [
              "array([3, 8, 8, 0, 6], dtype=uint8)"
            ]
          },
          "metadata": {
            "tags": []
          },
          "execution_count": 72
        }
      ]
    },
    {
      "cell_type": "code",
      "metadata": {
        "colab": {
          "base_uri": "https://localhost:8080/"
        },
        "id": "CmA_n-gIDXgx",
        "outputId": "b08eabe5-eee3-483c-dcdf-e23e0a46eaae"
      },
      "source": [
        "y_pred=cnn.predict(X_test)\n",
        "y_pred[:5]"
      ],
      "execution_count": 73,
      "outputs": [
        {
          "output_type": "execute_result",
          "data": {
            "text/plain": [
              "array([[6.6007866e-05, 1.0443475e-08, 8.2081979e-06, 9.8120499e-01,\n",
              "        1.2850006e-08, 9.3554314e-03, 2.5384161e-05, 5.2841063e-08,\n",
              "        9.3395859e-03, 3.3874008e-07],\n",
              "       [2.8473319e-04, 1.5989214e-02, 1.0989109e-08, 3.4310635e-10,\n",
              "        3.1820010e-15, 3.2769596e-11, 2.1037765e-11, 4.1124015e-14,\n",
              "        9.8372078e-01, 5.2403770e-06],\n",
              "       [7.1508321e-03, 2.0326244e-02, 1.8616907e-05, 2.8399229e-03,\n",
              "        9.8169903e-06, 9.3585795e-06, 1.3437649e-05, 2.8919869e-06,\n",
              "        9.6960574e-01, 2.3150516e-05],\n",
              "       [9.9539930e-01, 3.9873856e-05, 9.2629471e-06, 2.0103050e-06,\n",
              "        1.7481231e-08, 3.7399230e-09, 5.6978116e-08, 1.2219186e-09,\n",
              "        4.5486311e-03, 7.8051346e-07],\n",
              "       [5.6515844e-08, 1.0600264e-06, 4.6940435e-02, 2.5306789e-02,\n",
              "        3.6477411e-01, 1.0068355e-03, 5.6197011e-01, 4.6891165e-07,\n",
              "        1.8691904e-09, 7.0686795e-08]], dtype=float32)"
            ]
          },
          "metadata": {
            "tags": []
          },
          "execution_count": 73
        }
      ]
    },
    {
      "cell_type": "code",
      "metadata": {
        "colab": {
          "base_uri": "https://localhost:8080/"
        },
        "id": "Uk-u5PPtDq3-",
        "outputId": "b8675bf4-651d-4073-d1ed-25d5f80fe561"
      },
      "source": [
        "y_classes=[np.argmax(element) for element in y_pred]\n",
        "y_classes[:5]"
      ],
      "execution_count": 74,
      "outputs": [
        {
          "output_type": "execute_result",
          "data": {
            "text/plain": [
              "[3, 8, 8, 0, 6]"
            ]
          },
          "metadata": {
            "tags": []
          },
          "execution_count": 74
        }
      ]
    },
    {
      "cell_type": "code",
      "metadata": {
        "colab": {
          "base_uri": "https://localhost:8080/"
        },
        "id": "lDc6d0q1D9BL",
        "outputId": "019aefeb-70da-445a-ebc8-2438a839225d"
      },
      "source": [
        "y_test[:5]"
      ],
      "execution_count": 75,
      "outputs": [
        {
          "output_type": "execute_result",
          "data": {
            "text/plain": [
              "array([3, 8, 8, 0, 6], dtype=uint8)"
            ]
          },
          "metadata": {
            "tags": []
          },
          "execution_count": 75
        }
      ]
    },
    {
      "cell_type": "code",
      "metadata": {
        "colab": {
          "base_uri": "https://localhost:8080/",
          "height": 173
        },
        "id": "VgKWZHPMKbAY",
        "outputId": "6311bbc7-b7d6-4405-9c19-baf04843b811"
      },
      "source": [
        "plot_sample(X_test,y_test,2)"
      ],
      "execution_count": 83,
      "outputs": [
        {
          "output_type": "display_data",
          "data": {
            "image/png": "[encoded data removed]",
            "text/plain": [
              "<Figure size 1080x144 with 1 Axes>"
            ]
          },
          "metadata": {
            "tags": [],
            "needs_background": "light"
          }
        }
      ]
    },
    {
      "cell_type": "code",
      "metadata": {
        "colab": {
          "base_uri": "https://localhost:8080/",
          "height": 35
        },
        "id": "HBbDXYwuKiD2",
        "outputId": "f8e2ee25-0cb6-4e7b-cf97-47b731085180"
      },
      "source": [
        "classes[y_classes[2]]"
      ],
      "execution_count": 84,
      "outputs": [
        {
          "output_type": "execute_result",
          "data": {
            "application/vnd.google.colaboratory.intrinsic+json": {
              "type": "string"
            },
            "text/plain": [
              "'ship'"
            ]
          },
          "metadata": {
            "tags": []
          },
          "execution_count": 84
        }
      ]
    },
    {
      "cell_type": "code",
      "metadata": {
        "colab": {
          "base_uri": "https://localhost:8080/",
          "height": 283
        },
        "id": "13R8at9KLkDI",
        "outputId": "8f505466-c075-4279-e50b-7445e99f4863"
      },
      "source": [
        "plt.imshow(X_test[2])"
      ],
      "execution_count": 85,
      "outputs": [
        {
          "output_type": "execute_result",
          "data": {
            "text/plain": [
              "<matplotlib.image.AxesImage at 0x7f2202defbd0>"
            ]
          },
          "metadata": {
            "tags": []
          },
          "execution_count": 85
        },
        {
          "output_type": "display_data",
          "data": {
            "image/png": "[encoded data removed]",
            "text/plain": [
              "<Figure size 432x288 with 1 Axes>"
            ]
          },
          "metadata": {
            "tags": [],
            "needs_background": "light"
          }
        }
      ]
    },
    {
      "cell_type": "code",
      "metadata": {
        "colab": {
          "base_uri": "https://localhost:8080/"
        },
        "id": "oxOd_EqCMT2q",
        "outputId": "3011e61a-8e77-45e3-e722-90e1ec99b60b"
      },
      "source": [
        "y_test[1]"
      ],
      "execution_count": 79,
      "outputs": [
        {
          "output_type": "execute_result",
          "data": {
            "text/plain": [
              "8"
            ]
          },
          "metadata": {
            "tags": []
          },
          "execution_count": 79
        }
      ]
    },
    {
      "cell_type": "code",
      "metadata": {
        "colab": {
          "base_uri": "https://localhost:8080/"
        },
        "id": "kjyuwuY7Mnmp",
        "outputId": "15c6ead9-b310-4f78-cda8-54cddc35e3f4"
      },
      "source": [
        "print('Classification Report \\n',classification_report(y_test,y_classes))"
      ],
      "execution_count": 86,
      "outputs": [
        {
          "output_type": "stream",
          "text": [
            "Classification Report \n",
            "               precision    recall  f1-score   support\n",
            "\n",
            "           0       0.69      0.77      0.73      1000\n",
            "           1       0.80      0.82      0.81      1000\n",
            "           2       0.60      0.58      0.59      1000\n",
            "           3       0.49      0.58      0.53      1000\n",
            "           4       0.64      0.66      0.65      1000\n",
            "           5       0.64      0.53      0.58      1000\n",
            "           6       0.69      0.83      0.75      1000\n",
            "           7       0.80      0.70      0.75      1000\n",
            "           8       0.82      0.78      0.80      1000\n",
            "           9       0.84      0.70      0.76      1000\n",
            "\n",
            "    accuracy                           0.70     10000\n",
            "   macro avg       0.70      0.70      0.70     10000\n",
            "weighted avg       0.70      0.70      0.70     10000\n",
            "\n"
          ],
          "name": "stdout"
        }
      ]
    },
    {
      "cell_type": "code",
      "metadata": {
        "colab": {
          "base_uri": "https://localhost:8080/",
          "height": 35
        },
        "id": "xBC5995JNkGx",
        "outputId": "4175b2e5-0698-4d02-a959-7e82144bf72d"
      },
      "source": [
        "classes[y_classes[30]]"
      ],
      "execution_count": 87,
      "outputs": [
        {
          "output_type": "execute_result",
          "data": {
            "application/vnd.google.colaboratory.intrinsic+json": {
              "type": "string"
            },
            "text/plain": [
              "'frog'"
            ]
          },
          "metadata": {
            "tags": []
          },
          "execution_count": 87
        }
      ]
    },
    {
      "cell_type": "code",
      "metadata": {
        "colab": {
          "base_uri": "https://localhost:8080/",
          "height": 173
        },
        "id": "gbJY9IEuOQpn",
        "outputId": "ab2cdab7-20a2-4a1f-ee84-b9542008b52d"
      },
      "source": [
        "plot_sample(X_test,y_test,30)"
      ],
      "execution_count": 88,
      "outputs": [
        {
          "output_type": "display_data",
          "data": {
            "image/png": "[encoded data removed]",
            "text/plain": [
              "<Figure size 1080x144 with 1 Axes>"
            ]
          },
          "metadata": {
            "tags": [],
            "needs_background": "light"
          }
        }
      ]
    },
    {
      "cell_type": "code",
      "metadata": {
        "id": "lg79bAs2OZUg"
      },
      "source": [
        ""
      ],
      "execution_count": null,
      "outputs": []
    }
  ]
}